{
 "cells": [
  {
   "cell_type": "markdown",
   "metadata": {},
   "source": [
    "### 머신러닝\n",
    "- ML시스템은 입력을 결합하여 이전에 본 적이 없는 데이터를 적절히 예측하는 방법 학습\n",
    "\n",
    "#### 라벨 \n",
    "\n",
    "예측하는 항목(y) \n",
    "\n",
    "#### 특성\n",
    "\n",
    "입력 변수(x) : 간단한 머신러닝 프로젝트에서는 하나 사용, 복잡한 머신러닝 프로젝트는 수백만개의 특성 사용가능\n",
    "\n",
    "#### example\n",
    "\n",
    "데이터의 특정 인스턴스\n",
    "- 라벨이 있는 예\n",
    "- 라벨이 없는 예\n",
    "\n",
    "라벨이 있는 예에는 특성과 라벨이 모두 포함\n",
    "\n",
    "```python\n",
    "labled examples : {features, label} : (x,y)\n",
    "```\n",
    "\n",
    "라벨이 없는 예에는 특성포함, 라벨은 포함되지 않는다.\n",
    "```python\n",
    "unlabeled examples : {features, ?}: (x, ?)\n",
    "```\n",
    "\n",
    "라벨이 있는 예로 모델을 학습시킨 다음 해당 모델을 사용하여 라벨이 없는 예의 라벨을 예측, 스팸감지예에서 라벨이 없는 예는 사람이 라벨을 지정하지 않은 새 이메일\n",
    "\n",
    "#### 모델\n",
    "\n",
    "특성과 라벨의 관계 정의 , 스팸감지 모델에서 특정 특성을 '스팸'과 긴밀하게 연결할 수 있다. \n",
    "\n",
    "- 학습은 모델을 만들거나 배우는 것을 의미, 즉 라벨이 있는 예를 모델에 보여주고, 모델이 특성과 라벨의 관계를 점차적으로 학습하도록 함\n",
    "- 추론은 학습된 모델을 라벨이 없는 예에 적용, 즉 학습된 모델을 사용하여 유용한 예측(y') 을 해낸다.\n",
    "\n",
    "#### 회귀와 분류 (Regression and Classification)\n",
    "\n",
    "회귀 모델은 연속적인 값을 예측\n",
    "\n",
    "- 캘리포니아의 주택 가격은?\n",
    "- 사용자가 광고를 클릭할 확률은?\n",
    "\n",
    "분류 모델은 불연속적인 값을 예측\n",
    "\n",
    "- 주어진 이메일 메세지가 스팸인가 아닌가\n",
    "- 이 이미지가 강아지, 고양이 또는 햄스터의 이미지 인가\n"
   ]
  },
  {
   "cell_type": "markdown",
   "metadata": {},
   "source": [
    "### 손실\n",
    "\n",
    "#### 제곱 손실 (L2손실)\n",
    "\n",
    "```python\n",
    "= the square of the difference between the label and the prediction\n",
    "= (observation - prediction(x))^2\n",
    "= (y - y`)^2\n",
    "```"
   ]
  },
  {
   "cell_type": "code",
   "execution_count": null,
   "metadata": {},
   "outputs": [],
   "source": []
  }
 ],
 "metadata": {
  "kernelspec": {
   "display_name": "learn",
   "language": "python",
   "name": "learn"
  },
  "language_info": {
   "codemirror_mode": {
    "name": "ipython",
    "version": 3
   },
   "file_extension": ".py",
   "mimetype": "text/x-python",
   "name": "python",
   "nbconvert_exporter": "python",
   "pygments_lexer": "ipython3",
   "version": "3.6.10"
  }
 },
 "nbformat": 4,
 "nbformat_minor": 4
}
